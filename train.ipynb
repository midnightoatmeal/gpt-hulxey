{
 "cells": [
  {
   "cell_type": "code",
   "execution_count": 13,
   "id": "d9f0a85b",
   "metadata": {},
   "outputs": [],
   "source": [
    "with open('huxley_raw.txt', 'r', encoding='utf-8') as f:\n",
    "    text = f.read()"
   ]
  },
  {
   "cell_type": "markdown",
   "id": "fc0fa32c",
   "metadata": {},
   "source": []
  },
  {
   "cell_type": "code",
   "execution_count": 14,
   "id": "c1c7b7f3",
   "metadata": {},
   "outputs": [
    {
     "name": "stdout",
     "output_type": "stream",
     "text": [
      "lenght of text: 1085291\n"
     ]
    }
   ],
   "source": [
    "print(f\"lenght of text: {len(text)}\")"
   ]
  },
  {
   "cell_type": "code",
   "execution_count": 15,
   "id": "40897c25",
   "metadata": {},
   "outputs": [
    {
     "name": "stdout",
     "output_type": "stream",
     "text": [
      "1\n",
      "Collected Essays \n",
      "by Aldous Huxley \n",
      " \n",
      "Back Cover: \n",
      " \n",
      " All over the English-speaking world cr itics have greeted these essays with such comments as \"brilliant. . . \n",
      "provocative. . . magnificent.\" Many find that  Huxley is the finest essayist sin ce Montaigne. It has been said that \n",
      "\"Mr. Huxley is not only a literary giant, but one of the greatest thinkers of our time.\" \n",
      " Mr. Huxley's topic is man, the total compass of his facu lties in science, literature, music, religion, art, love, \n",
      "sex, speculative thinking and simple bei ng. Here, displayed to the full, is th e astonishing virtuosity of Huxley's \n",
      "genius. \n",
      "  \n",
      " The range of Aldous Huxley's thinking was astonishi ng. His opinions on art were  as original and well-\n",
      "founded as his discussions of biology or  architecture, poetry, music, or hist ory. As a virtuoso of letters, he was \n",
      "unequalled. \n",
      " Born into a famous family with a long intellect ual tradition, Huxley attended Eton and Oxford. His \n",
      "reputation as a writer was well-establis hed before he was thirty. Mr. Huxley  was not only a master essayist; in \n",
      "1959 he received the American Academy of Arts and Letters Award of Merit for \"having done the best work of our \n",
      "time in what threatens to be a neglected field, the novel of ideas.\" \n",
      " His novels include Crome Yellow and The Genius and the Goddess. \n",
      " \n",
      " \n",
      "This low-priced Bantam Book \n",
      "has been completely reset in a type face \n",
      "designed for easy reading and was printed \n",
      "from new plates. It contains the complete \n",
      "text of the original hard-cover edition, \n",
      "NOT ONE WORD HAS BEEN OMITTED. \n",
      " \n",
      "COLLECTED ESSAYS \n",
      "A Bantam Book / published by arrangement with \n",
      "Harper & Row, Publishers, Inc. \n",
      " \n",
      "PRINTING HISTORY \n",
      "Harper &. Row edition published August 1959 \n",
      "2nd printing . . . . . . . August 1959 \n",
      "3rd printing . . . . September 1959 \n",
      "4th printing . . . . . . . March 1960 \n",
      "Marboro Book Club edition published September 1959 \n",
      "Published as a Bantam Classic October 1960 \n",
      "2nd printing. . . . . . . March 1964 \n",
      " \n",
      "All rights In this book are reserved. \n",
      "Copyright © 1923, 1925, 1926, 1928, 1929, 1930, 1931, \n",
      "1934, 1937, 1941, 1946, 1949, 1950, 1951, 1952, 1953, \n",
      "1954, 1955, 1956, 1957, 1958, 1959, by Aldous Huxley. \n",
      "Copyright © 1943 by Crown Publishers. \n",
      "Copyright © 1958 by The Curtis Publishing Company. \n",
      " \n",
      "No part of the book may be used or reproduced in \n",
      "any manner whatsoever without written permission \n",
      "except in the case of brief quotations embodied in \n",
      "critical articles and reviews. For information \n",
      "address: Harper & Row, Publishers, Inc., 49 East \n",
      "33rd Street, New York 16, N. Y. \n",
      " \n",
      "Bantam Books are published by Bantam Books, Inc. \n",
      "Its trade-mark, consisting of the words \"Bantam Books\" \n",
      "and the portrayal of a bantam, is registered in the United \n",
      "States Patent Office and in other countries. Marca \n",
      "Registrada. Printed in the United States of America. \n",
      "Bantam books, Inc., 271 Madison Ave., New York 16, N. Y.\n",
      "\n",
      "<<<PAGEBREAK>>>\n",
      "\n",
      "2\n",
      "Preface \n",
      " \n",
      " \"I am a man and alive,\" wrote D. H. Lawrence. \"F or this reason I am a noveli st. And, being a novelist, I \n",
      "consider myself superior to the sain t, the scientist, the philosopher, and the poet, who are all great masters of \n",
      "different bits of man alive, but never get the whole hog. . . Only in the novel are all things given full play.\" \n",
      " What is true of the novel is only a little less true of the essay. For, li ke the novel, the e ssay is a literary \n",
      "device for saying almost everything about almost anything. By tradition, almost by defi nition, the essay is a short \n",
      "piece, and it is therefore impossible to give all things full play within the limits of a single essay. But a collection \n",
      "of essays can cover almost as much ground, and cover it  almost as thoroughly as can a long novel. Montaigne's \n",
      "Third Book is the equivalent, very nearly, of a good slice of the Comédie Humaine. \n",
      " Essays belong to a literary species whose extreme variab ility can be studied most effectively within a three-\n",
      "poled frame of reference. There is the pole of the pe rsonal and the autobiographical; there is the pole of the \n",
      "objective, the factual, the concrete-particular; and there is  the pole of the abstract-universal. Most essayists are at \n",
      "home and at their best in the neighborhood of only one of the essay's three poles,  or at the most only in the \n",
      "neighborhood of two of them. There are the predominantly personal essayists,  who write fragments of reflective \n",
      "autobiography and who look at the world through the keyhole of anecdote and description. There are the \n",
      "predominantly objective essayists who do not speak directly of themselves, but turn their attention outward to some \n",
      "literary or scientific or political theme. Their art c onsists in setting forth, passing judgment upon, and drawing \n",
      "general conclusions from, the relevant data. In a third group we find those essayists who do their work in the world \n",
      "of high abstractions, who never condesce nd to be personal and who hardly dei gn to take notice of the particular \n",
      "facts, from which their generalizations were originally drawn. Each kind of essay has its special merits and defects. \n",
      "The personal essayists may be as good as Charles Lamb at hi s best, or as bad as Mr. X at  his cutest and most self-\n",
      "consciously whimsical. The objective essay may be as lively, as brassily contentious as a piece by Macaulay; but it \n",
      "may also, with fatal ease, degenerate into something merely informative or, if it be critical, into something merely \n",
      "learned and academic. And how splendid, how truly oracular ar e the utterances of the gr eat generalizes! \"He that \n",
      "hath wife and children hath given hostages to fortune; for they are impediments to great enterprises, either of virtue \n",
      "or mischief.\" And from Bacon we pass to Emerson. \"All  men plume themselves on the improvement of society, \n",
      "and no man improves. Society never advances. It recedes as fast on one side as it gains on the other. For everything \n",
      "that is given, something is taken.\" Ev en a Baltasar Gracian, that briefest of essayists who writes as though he were \n",
      "cabling his wisdom, at two dollars a word, to the Anti podes, sometimes achieves a cer tain magnificence. \"Things \n",
      "have their period; even excellences are subject to fashion. The sage has one advantage: he is immortal. If this is not \n",
      "his century, many others will be.\" But the medal of solemn and lapidary generalization has its reverse. The \n",
      "constantly abstract, constantly impersonal essayist is apt to  give us not oracles but alge bra. As an example of such \n",
      "algebraic writing, let me quote a short passage from  the English translation of Paul Valéry's Dialogues. It is worth \n",
      "remarking that French literature has a tradition of high a nd sustained abstraction; English literature has not. Works \n",
      "that in French are not at all out of the common seem, when  translated, strange almost to the point of absurdity. But \n",
      "even when made acceptable by tradition and a great talent, th e algebraic style strikes us as being very remote from \n",
      "the living reality of our immediate experi ence. Here, in the words of an imagin ary Socrates, is Valery's description \n",
      "of the kind of language in which (as I think, unfortunately ) he liked to write. \"What is more mysterious than \n",
      "clarity? what more capricious than the way in which light  and shade are distributed over the hours and over men? \n",
      "Certain peoples lose themselves in th eir thoughts, but for the Greeks all things are form s. We retain only their \n",
      "relations and, enclosed, as it were, in the limpid day, Orpheus like we buil d, by means of the word, temples of \n",
      "wisdom and science that may suffice fo r all reasonable creatures. This great ar t requires of us an admirably exact \n",
      "language. The very word that signifies language is also the name, with us, for reason and calcul ation; the same \n",
      "word says these three things.\" In the stratosphere of abst ract notions this elegant alge bra is all very well; but a \n",
      "completely bodiless language can never do justice to th e data of immediate experience, nor can it contribute \n",
      "anything to our understanding of the \"capricious lights and shades\" in the midst of which, whether we like it or not, \n",
      "we must perforce live out our lives. \n",
      " The most richly satisfying essays ar e those which make the best not of one, not of two, but of all the three \n",
      "worlds in which it is possible for the essay to exist.  Freely, effortlessly, thought and feeling move in these \n",
      "consummate works of art, hither and thither between the es say's three poles -- from th e personal to the universal,\n",
      "\n",
      "<<<PAGEBREAK>>>\n",
      "\n",
      "3\n",
      "from the abstract back to the concrete, from the objective datum to the inner experience. \n",
      " The perfection of any artistic form is  rarely achieved by its first inventor. To this rule Montaigne is the \n",
      "great and marvelous exception. By the time he had written his way into the Third Book, he had reached the limits \n",
      "of his newly discovered art. \"What are these essays,\" he had asked at the be ginning of his caree r, \"but grotesque \n",
      "bodies pieced together of different members, without a ny definite shape, without any order, coherence, or \n",
      "proportion, except they be accidental.\"  But a few years later the patchwor k grotesques had turned into living \n",
      "organisms, into multiform hybrids like those beautiful monsters of the ol d mythologies, the mermaids, the man-\n",
      "headed bulls with wings, the centaurs, the Anubises, th e seraphim -- impossibilities compounded of incompatibles, \n",
      "but compounded from within, by a proce ss akin to growth, so that the huma n trunk seems to spring quite naturally \n",
      "from between the horse's shoulders, the fish modulates into  the full-breasted Siren as easily and inevitably as a \n",
      "musical theme modulates from one key to  another. Free association artistically  controlled -- this is the paradoxical \n",
      "secret of Montaigne's best essays. One damned thing af ter another -- but in a sequence that in some almost \n",
      "miraculous way develops a central th eme and relates it to the rest of human experience. And how beautifully \n",
      "Montaigne combines the generalizati on with the \n"
     ]
    }
   ],
   "source": [
    "print(text[:10000])"
   ]
  },
  {
   "cell_type": "code",
   "execution_count": 16,
   "id": "eba2b478",
   "metadata": {},
   "outputs": [
    {
     "name": "stdout",
     "output_type": "stream",
     "text": [
      "\n",
      " !\"&'()*+,-./0123456789:;<=>?ABCDEFGHIJKLMNOPQRSTUVWXYZ[]abcdefghijklmnopqrstuvwxyz©ÀÆÉÎàâçèéêëïôöùúûü—\n",
      "104\n"
     ]
    }
   ],
   "source": [
    "chars = sorted(list(set(text)))\n",
    "vocab_size = len(chars)\n",
    "print(''.join(chars))\n",
    "print(vocab_size)"
   ]
  },
  {
   "cell_type": "code",
   "execution_count": 17,
   "id": "4c48d9cb",
   "metadata": {},
   "outputs": [
    {
     "name": "stdout",
     "output_type": "stream",
     "text": [
      "[65, 66, 66, 1, 77, 65, 62, 75, 62, 2]\n",
      "hii there!\n"
     ]
    }
   ],
   "source": [
    "# creating a mapping from characters to integers\n",
    "stoi = {ch:i for i, ch in enumerate(chars)}\n",
    "itos = {i:ch for i, ch in enumerate(chars)}\n",
    "\n",
    "encode = lambda s: [stoi[c] for c in s] # encoder: take a string, output a list of integers\n",
    "decode = lambda l: ''.join([itos[i] for i in l]) # decoder: take a list of integers, output a string\n",
    "\n",
    "print(encode(\"hii there!\"))\n",
    "print(decode(encode(\"hii there!\")))"
   ]
  },
  {
   "cell_type": "code",
   "execution_count": 18,
   "id": "d2f5df49",
   "metadata": {},
   "outputs": [
    {
     "name": "stdout",
     "output_type": "stream",
     "text": [
      "torch.Size([1085291]) torch.int64\n",
      "tensor([15,  0, 32, 72, 69, 69, 62, 60, 77, 62, 61,  1, 34, 76, 76, 58, 82, 76,\n",
      "         1,  0, 59, 82,  1, 30, 69, 61, 72, 78, 76,  1, 37, 78, 81, 69, 62, 82,\n",
      "         1,  0,  1,  0, 31, 58, 60, 68,  1, 32, 72, 79, 62, 75, 24,  1,  0,  1,\n",
      "         0,  1, 30, 69, 69,  1, 72, 79, 62, 75,  1, 77, 65, 62,  1, 34, 71, 64,\n",
      "        69, 66, 76, 65, 11, 76, 73, 62, 58, 68, 66, 71, 64,  1, 80, 72, 75, 69,\n",
      "        61,  1, 60, 75,  1, 66, 77, 66, 60, 76,  1, 65, 58, 79, 62,  1, 64, 75,\n",
      "        62, 62, 77, 62, 61,  1, 77, 65, 62, 76, 62,  1, 62, 76, 76, 58, 82, 76,\n",
      "         1, 80, 66, 77, 65,  1, 76, 78, 60, 65,  1, 60, 72, 70, 70, 62, 71, 77,\n",
      "        76,  1, 58, 76,  1,  3, 59, 75, 66, 69, 69, 66, 58, 71, 77, 12,  1, 12,\n",
      "         1, 12,  1,  0, 73, 75, 72, 79, 72, 60, 58, 77, 66, 79, 62, 12,  1, 12,\n",
      "         1, 12,  1, 70, 58, 64, 71, 66, 63, 66, 60, 62, 71, 77, 12,  3,  1, 42,\n",
      "        58, 71, 82,  1, 63, 66, 71, 61,  1, 77, 65, 58, 77,  1,  1, 37, 78, 81,\n",
      "        69, 62, 82,  1, 66, 76,  1, 77, 65, 62,  1, 63, 66, 71, 62, 76, 77,  1,\n",
      "        62, 76, 76, 58, 82, 66, 76, 77,  1, 76, 66, 71,  1, 60, 62,  1, 42, 72,\n",
      "        71, 77, 58, 66, 64, 71, 62, 12,  1, 38, 77,  1, 65, 58, 76,  1, 59, 62,\n",
      "        62, 71,  1, 76, 58, 66, 61,  1, 77, 65, 58, 77,  1,  0,  3, 42, 75, 12,\n",
      "         1, 37, 78, 81, 69, 62, 82,  1, 66, 76,  1, 71, 72, 77,  1, 72, 71, 69,\n",
      "        82,  1, 58,  1, 69, 66, 77, 62, 75, 58, 75, 82,  1, 64, 66, 58, 71, 77,\n",
      "        10,  1, 59, 78, 77,  1, 72, 71, 62,  1, 72, 63,  1, 77, 65, 62,  1, 64,\n",
      "        75, 62, 58, 77, 62, 76, 77,  1, 77, 65, 66, 71, 68, 62, 75, 76,  1, 72,\n",
      "        63,  1, 72, 78, 75,  1, 77, 66, 70, 62, 12,  3,  1,  0,  1, 42, 75, 12,\n",
      "         1, 37, 78, 81, 69, 62, 82,  5, 76,  1, 77, 72, 73, 66, 60,  1, 66, 76,\n",
      "         1, 70, 58, 71, 10,  1, 77, 65, 62,  1, 77, 72, 77, 58, 69,  1, 60, 72,\n",
      "        70, 73, 58, 76, 76,  1, 72, 63,  1, 65, 66, 76,  1, 63, 58, 60, 78,  1,\n",
      "        69, 77, 66, 62, 76,  1, 66, 71,  1, 76, 60, 66, 62, 71, 60, 62, 10,  1,\n",
      "        69, 66, 77, 62, 75, 58, 77, 78, 75, 62, 10,  1, 70, 78, 76, 66, 60, 10,\n",
      "         1, 75, 62, 69, 66, 64, 66, 72, 71, 10,  1, 58, 75, 77, 10,  1, 69, 72,\n",
      "        79, 62, 10,  1,  0, 76, 62, 81, 10,  1, 76, 73, 62, 60, 78, 69, 58, 77,\n",
      "        66, 79, 62,  1, 77, 65, 66, 71, 68, 66, 71, 64,  1, 58, 71, 61,  1, 76,\n",
      "        66, 70, 73, 69, 62,  1, 59, 62, 66,  1, 71, 64, 12,  1, 37, 62, 75, 62,\n",
      "        10,  1, 61, 66, 76, 73, 69, 58, 82, 62, 61,  1, 77, 72,  1, 77, 65, 62,\n",
      "         1, 63, 78, 69, 69, 10,  1, 66, 76,  1, 77, 65,  1, 62,  1, 58, 76, 77,\n",
      "        72, 71, 66, 76, 65, 66, 71, 64,  1, 79, 66, 75, 77, 78, 72, 76, 66, 77,\n",
      "        82,  1, 72, 63,  1, 37, 78, 81, 69, 62, 82,  5, 76,  1,  0, 64, 62, 71,\n",
      "        66, 78, 76, 12,  1,  0,  1,  1,  0,  1, 49, 65, 62,  1, 75, 58, 71, 64,\n",
      "        62,  1, 72, 63,  1, 30, 69, 61, 72, 78, 76,  1, 37, 78, 81, 69, 62, 82,\n",
      "         5, 76,  1, 77, 65, 66, 71, 68, 66, 71, 64,  1, 80, 58, 76,  1, 58, 76,\n",
      "        77, 72, 71, 66, 76, 65, 66,  1, 71, 64, 12,  1, 37, 66, 76,  1, 72, 73,\n",
      "        66, 71, 66, 72, 71, 76,  1, 72, 71,  1, 58, 75, 77,  1, 80, 62, 75, 62,\n",
      "         1,  1, 58, 76,  1, 72, 75, 66, 64, 66, 71, 58, 69,  1, 58, 71, 61,  1,\n",
      "        80, 62, 69, 69, 11,  0, 63, 72, 78, 71, 61, 62, 61,  1, 58, 76,  1, 65,\n",
      "        66, 76,  1, 61, 66, 76, 60, 78, 76, 76, 66, 72, 71, 76,  1, 72, 63,  1,\n",
      "        59, 66, 72, 69, 72, 64, 82,  1, 72, 75,  1,  1, 58, 75, 60, 65, 66, 77,\n",
      "        62, 60, 77, 78, 75, 62, 10,  1, 73, 72, 62, 77, 75, 82, 10,  1, 70, 78,\n",
      "        76, 66, 60, 10,  1, 72, 75,  1, 65, 66, 76, 77,  1, 72, 75, 82, 12,  1,\n",
      "        30, 76,  1, 58,  1, 79, 66, 75, 77, 78, 72, 76, 72,  1, 72, 63,  1, 69,\n",
      "        62, 77, 77, 62, 75, 76, 10,  1, 65, 62,  1, 80, 58, 76,  1,  0, 78, 71,\n",
      "        62, 74, 78, 58, 69, 69, 62, 61, 12,  1,  0,  1, 31, 72, 75, 71,  1, 66,\n",
      "        71, 77, 72,  1, 58,  1, 63, 58, 70, 72, 78, 76,  1, 63, 58, 70, 66, 69,\n",
      "        82,  1, 80, 66, 77, 65,  1, 58,  1, 69, 72, 71, 64,  1, 66, 71, 77, 62,\n",
      "        69, 69, 62, 60, 77,  1, 78, 58, 69,  1, 77, 75, 58, 61, 66, 77, 66, 72,\n",
      "        71, 10,  1, 37, 78, 81, 69, 62, 82,  1, 58, 77, 77, 62, 71, 61, 62, 61,\n",
      "         1, 34, 77, 72, 71,  1, 58, 71, 61,  1, 44, 81, 63, 72, 75, 61, 12,  1,\n",
      "        37, 66, 76,  1,  0, 75, 62, 73, 78, 77, 58, 77, 66, 72, 71,  1, 58, 76,\n",
      "         1, 58,  1, 80, 75, 66, 77, 62, 75,  1, 80, 58, 76,  1, 80, 62, 69, 69,\n",
      "        11, 62, 76, 77, 58, 59, 69, 66, 76,  1])\n"
     ]
    }
   ],
   "source": [
    "import torch\n",
    "\n",
    "data = torch.tensor(encode(text), dtype=torch.long)\n",
    "print(data.shape, data.dtype)\n",
    "print(data[:1000])"
   ]
  },
  {
   "cell_type": "code",
   "execution_count": 19,
   "id": "06b15293",
   "metadata": {},
   "outputs": [],
   "source": [
    "# let's split up the data into train and validation sets\n",
    "n = int(0.9 * len(data))\n",
    "train_data = data[:n]\n",
    "val_data = data[n:]"
   ]
  },
  {
   "cell_type": "code",
   "execution_count": 20,
   "id": "49c658e2",
   "metadata": {},
   "outputs": [
    {
     "data": {
      "text/plain": [
       "tensor([15,  0, 32, 72, 69, 69, 62, 60, 77])"
      ]
     },
     "execution_count": 20,
     "metadata": {},
     "output_type": "execute_result"
    }
   ],
   "source": [
    "block_size = 8\n",
    "train_data[:block_size+1]"
   ]
  },
  {
   "cell_type": "code",
   "execution_count": 21,
   "id": "ab66c90d",
   "metadata": {},
   "outputs": [
    {
     "name": "stdout",
     "output_type": "stream",
     "text": [
      "when input is tensor([15]) the target: 0\n",
      "when input is tensor([15,  0]) the target: 32\n",
      "when input is tensor([15,  0, 32]) the target: 72\n",
      "when input is tensor([15,  0, 32, 72]) the target: 69\n",
      "when input is tensor([15,  0, 32, 72, 69]) the target: 69\n",
      "when input is tensor([15,  0, 32, 72, 69, 69]) the target: 62\n",
      "when input is tensor([15,  0, 32, 72, 69, 69, 62]) the target: 60\n",
      "when input is tensor([15,  0, 32, 72, 69, 69, 62, 60]) the target: 77\n"
     ]
    }
   ],
   "source": [
    "x = train_data[:block_size]\n",
    "y = train_data[1:block_size+1]\n",
    "for t in range(block_size):\n",
    "    context = x[:t+1]\n",
    "    target = y[t]\n",
    "    print(f\"when input is {context} the target: {target}\")"
   ]
  },
  {
   "cell_type": "code",
   "execution_count": 22,
   "id": "a2a4b1dd",
   "metadata": {},
   "outputs": [
    {
     "name": "stdout",
     "output_type": "stream",
     "text": [
      "inputs:\n",
      "torch.Size([4, 8])\n",
      "tensor([[73, 69, 62, 76,  1, 77, 65, 62],\n",
      "        [48, 77, 12,  1, 49, 65, 72, 70],\n",
      "        [61,  1, 66, 77,  1, 66, 76,  1],\n",
      "        [66, 71, 10,  1, 71, 72, 77,  1]])\n",
      "targets:\n",
      "torch.Size([4, 8])\n",
      "tensor([[69, 62, 76,  1, 77, 65, 62,  1],\n",
      "        [77, 12,  1, 49, 65, 72, 70, 58],\n",
      "        [ 1, 66, 77,  1, 66, 76,  1, 72],\n",
      "        [71, 10,  1, 71, 72, 77,  1, 77]])\n"
     ]
    }
   ],
   "source": [
    "torch.manual_seed(1337)\n",
    "batch_size = 4 # how many independent sequences will we process in parallel?\n",
    "block_size = 8 # what is the maximum context length for predictions?\n",
    "\n",
    "def get_batch(split):\n",
    "    data = train_data if split == 'train' else val_data\n",
    "    ix = torch.randint(len(data) - block_size, (batch_size,))\n",
    "    x = torch.stack([data[i:i+block_size] for i in ix])\n",
    "    y = torch.stack([data[i+1:i+block_size+1] for i in ix])\n",
    "    return x, y # x is the input, y is the target\n",
    "\n",
    "xb, yb = get_batch('train')\n",
    "print('inputs:')\n",
    "print(xb.shape)\n",
    "print(xb)\n",
    "print('targets:')\n",
    "print(yb.shape)\n",
    "print(yb)   \n",
    "\n"
   ]
  },
  {
   "cell_type": "code",
   "execution_count": null,
   "id": "5bdf18ac",
   "metadata": {},
   "outputs": [],
   "source": []
  }
 ],
 "metadata": {
  "kernelspec": {
   "display_name": "Python 3",
   "language": "python",
   "name": "python3"
  },
  "language_info": {
   "codemirror_mode": {
    "name": "ipython",
    "version": 3
   },
   "file_extension": ".py",
   "mimetype": "text/x-python",
   "name": "python",
   "nbconvert_exporter": "python",
   "pygments_lexer": "ipython3",
   "version": "3.9.6"
  }
 },
 "nbformat": 4,
 "nbformat_minor": 5
}
