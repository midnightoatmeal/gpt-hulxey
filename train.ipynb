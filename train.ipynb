{
 "cells": [
  {
   "cell_type": "code",
   "execution_count": 6,
   "id": "d9f0a85b",
   "metadata": {},
   "outputs": [],
   "source": [
    "with open('huxley_raw.txt', 'r', encoding='utf-8') as f:\n",
    "    text = f.read()"
   ]
  },
  {
   "cell_type": "markdown",
   "id": "fc0fa32c",
   "metadata": {},
   "source": []
  },
  {
   "cell_type": "code",
   "execution_count": 8,
   "id": "c1c7b7f3",
   "metadata": {},
   "outputs": [
    {
     "name": "stdout",
     "output_type": "stream",
     "text": [
      "lenght of text: 1085291\n"
     ]
    }
   ],
   "source": [
    "print(f\"lenght of text: {len(text)}\")"
   ]
  },
  {
   "cell_type": "code",
   "execution_count": 10,
   "id": "40897c25",
   "metadata": {},
   "outputs": [
    {
     "name": "stdout",
     "output_type": "stream",
     "text": [
      "1\n",
      "Collected Essays \n",
      "by Aldous Huxley \n",
      " \n",
      "Back Cover: \n",
      " \n",
      " All over the English-speaking world cr itics have greeted these essays with such comments as \"brilliant. . . \n",
      "provocative. . . magnificent.\" Many find that  Huxley is the finest essayist sin ce Montaigne. It has been said that \n",
      "\"Mr. Huxley is not only a literary giant, but one of the greatest thinkers of our time.\" \n",
      " Mr. Huxley's topic is man, the total compass of his facu lties in science, literature, music, religion, art, love, \n",
      "sex, speculative thinking and simple bei ng. Here, displayed to the full, is th e astonishing virtuosity of Huxley's \n",
      "genius. \n",
      "  \n",
      " The range of Aldous Huxley's thinking was astonishi ng. His opinions on art were  as original and well-\n",
      "founded as his discussions of biology or  architecture, poetry, music, or hist ory. As a virtuoso of letters, he was \n",
      "unequalled. \n",
      " Born into a famous family with a long intellect ual tradition, Huxley attended Eton and Oxford. His \n",
      "reputation as a writer was well-establis hed before he was thirty. Mr. Huxley  was not only a master essayist; in \n",
      "1959 he received the American Academy of Arts and Letters Award of Merit for \"having done the best work of our \n",
      "time in what threatens to be a neglected field, the novel of ideas.\" \n",
      " His novels include Crome Yellow and The Genius and the Goddess. \n",
      " \n",
      " \n",
      "This low-priced Bantam Book \n",
      "has been completely reset in a type face \n",
      "designed for easy reading and was printed \n",
      "from new plates. It contains the complete \n",
      "text of the original hard-cover edition, \n",
      "NOT ONE WORD HAS BEEN OMITTED. \n",
      " \n",
      "COLLECTED ESSAYS \n",
      "A Bantam Book / published by arrangement with \n",
      "Harper & Row, Publishers, Inc. \n",
      " \n",
      "PRINTING HISTORY \n",
      "Harper &. Row edition published August 1959 \n",
      "2nd printing . . . . . . . August 1959 \n",
      "3rd printing . . . . September 1959 \n",
      "4th printing . . . . . . . March 1960 \n",
      "Marboro Book Club edition published September 1959 \n",
      "Published as a Bantam Classic October 1960 \n",
      "2nd printing. . . . . . . March 1964 \n",
      " \n",
      "All rights In this book are reserved. \n",
      "Copyright © 1923, 1925, 1926, 1928, 1929, 1930, 1931, \n",
      "1934, 1937, 1941, 1946, 1949, 1950, 1951, 1952, 1953, \n",
      "1954, 1955, 1956, 1957, 1958, 1959, by Aldous Huxley. \n",
      "Copyright © 1943 by Crown Publishers. \n",
      "Copyright © 1958 by The Curtis Publishing Company. \n",
      " \n",
      "No part of the book may be used or reproduced in \n",
      "any manner whatsoever without written permission \n",
      "except in the case of brief quotations embodied in \n",
      "critical articles and reviews. For information \n",
      "address: Harper & Row, Publishers, Inc., 49 East \n",
      "33rd Street, New York 16, N. Y. \n",
      " \n",
      "Bantam Books are published by Bantam Books, Inc. \n",
      "Its trade-mark, consisting of the words \"Bantam Books\" \n",
      "and the portrayal of a bantam, is registered in the United \n",
      "States Patent Office and in other countries. Marca \n",
      "Registrada. Printed in the United States of America. \n",
      "Bantam books, Inc., 271 Madison Ave., New York 16, N. Y.\n",
      "\n",
      "<<<PAGEBREAK>>>\n",
      "\n",
      "2\n",
      "Preface \n",
      " \n",
      " \"I am a man and alive,\" wrote D. H. Lawrence. \"F or this reason I am a noveli st. And, being a novelist, I \n",
      "consider myself superior to the sain t, the scientist, the philosopher, and the poet, who are all great masters of \n",
      "different bits of man alive, but never get the whole hog. . . Only in the novel are all things given full play.\" \n",
      " What is true of the novel is only a little less true of the essay. For, li ke the novel, the e ssay is a literary \n",
      "device for saying almost everything about almost anything. By tradition, almost by defi nition, the essay is a short \n",
      "piece, and it is therefore impossible to give all things full play within the limits of a single essay. But a collection \n",
      "of essays can cover almost as much ground, and cover it  almost as thoroughly as can a long novel. Montaigne's \n",
      "Third Book is the equivalent, very nearly, of a good slice of the Comédie Humaine. \n",
      " Essays belong to a literary species whose extreme variab ility can be studied most effectively within a three-\n",
      "poled frame of reference. There is the pole of the pe rsonal and the autobiographical; there is the pole of the \n",
      "objective, the factual, the concrete-particular; and there is  the pole of the abstract-universal. Most essayists are at \n",
      "home and at their best in the neighborhood of only one of the essay's three poles,  or at the most only in the \n",
      "neighborhood of two of them. There are the predominantly personal essayists,  who write fragments of reflective \n",
      "autobiography and who look at the world through the keyhole of anecdote and description. There are the \n",
      "predominantly objective essayists who do not speak directly of themselves, but turn their attention outward to some \n",
      "literary or scientific or political theme. Their art c onsists in setting forth, passing judgment upon, and drawing \n",
      "general conclusions from, the relevant data. In a third group we find those essayists who do their work in the world \n",
      "of high abstractions, who never condesce nd to be personal and who hardly dei gn to take notice of the particular \n",
      "facts, from which their generalizations were originally drawn. Each kind of essay has its special merits and defects. \n",
      "The personal essayists may be as good as Charles Lamb at hi s best, or as bad as Mr. X at  his cutest and most self-\n",
      "consciously whimsical. The objective essay may be as lively, as brassily contentious as a piece by Macaulay; but it \n",
      "may also, with fatal ease, degenerate into something merely informative or, if it be critical, into something merely \n",
      "learned and academic. And how splendid, how truly oracular ar e the utterances of the gr eat generalizes! \"He that \n",
      "hath wife and children hath given hostages to fortune; for they are impediments to great enterprises, either of virtue \n",
      "or mischief.\" And from Bacon we pass to Emerson. \"All  men plume themselves on the improvement of society, \n",
      "and no man improves. Society never advances. It recedes as fast on one side as it gains on the other. For everything \n",
      "that is given, something is taken.\" Ev en a Baltasar Gracian, that briefest of essayists who writes as though he were \n",
      "cabling his wisdom, at two dollars a word, to the Anti podes, sometimes achieves a cer tain magnificence. \"Things \n",
      "have their period; even excellences are subject to fashion. The sage has one advantage: he is immortal. If this is not \n",
      "his century, many others will be.\" But the medal of solemn and lapidary generalization has its reverse. The \n",
      "constantly abstract, constantly impersonal essayist is apt to  give us not oracles but alge bra. As an example of such \n",
      "algebraic writing, let me quote a short passage from  the English translation of Paul Valéry's Dialogues. It is worth \n",
      "remarking that French literature has a tradition of high a nd sustained abstraction; English literature has not. Works \n",
      "that in French are not at all out of the common seem, when  translated, strange almost to the point of absurdity. But \n",
      "even when made acceptable by tradition and a great talent, th e algebraic style strikes us as being very remote from \n",
      "the living reality of our immediate experi ence. Here, in the words of an imagin ary Socrates, is Valery's description \n",
      "of the kind of language in which (as I think, unfortunately ) he liked to write. \"What is more mysterious than \n",
      "clarity? what more capricious than the way in which light  and shade are distributed over the hours and over men? \n",
      "Certain peoples lose themselves in th eir thoughts, but for the Greeks all things are form s. We retain only their \n",
      "relations and, enclosed, as it were, in the limpid day, Orpheus like we buil d, by means of the word, temples of \n",
      "wisdom and science that may suffice fo r all reasonable creatures. This great ar t requires of us an admirably exact \n",
      "language. The very word that signifies language is also the name, with us, for reason and calcul ation; the same \n",
      "word says these three things.\" In the stratosphere of abst ract notions this elegant alge bra is all very well; but a \n",
      "completely bodiless language can never do justice to th e data of immediate experience, nor can it contribute \n",
      "anything to our understanding of the \"capricious lights and shades\" in the midst of which, whether we like it or not, \n",
      "we must perforce live out our lives. \n",
      " The most richly satisfying essays ar e those which make the best not of one, not of two, but of all the three \n",
      "worlds in which it is possible for the essay to exist.  Freely, effortlessly, thought and feeling move in these \n",
      "consummate works of art, hither and thither between the es say's three poles -- from th e personal to the universal,\n",
      "\n",
      "<<<PAGEBREAK>>>\n",
      "\n",
      "3\n",
      "from the abstract back to the concrete, from the objective datum to the inner experience. \n",
      " The perfection of any artistic form is  rarely achieved by its first inventor. To this rule Montaigne is the \n",
      "great and marvelous exception. By the time he had written his way into the Third Book, he had reached the limits \n",
      "of his newly discovered art. \"What are these essays,\" he had asked at the be ginning of his caree r, \"but grotesque \n",
      "bodies pieced together of different members, without a ny definite shape, without any order, coherence, or \n",
      "proportion, except they be accidental.\"  But a few years later the patchwor k grotesques had turned into living \n",
      "organisms, into multiform hybrids like those beautiful monsters of the ol d mythologies, the mermaids, the man-\n",
      "headed bulls with wings, the centaurs, the Anubises, th e seraphim -- impossibilities compounded of incompatibles, \n",
      "but compounded from within, by a proce ss akin to growth, so that the huma n trunk seems to spring quite naturally \n",
      "from between the horse's shoulders, the fish modulates into  the full-breasted Siren as easily and inevitably as a \n",
      "musical theme modulates from one key to  another. Free association artistically  controlled -- this is the paradoxical \n",
      "secret of Montaigne's best essays. One damned thing af ter another -- but in a sequence that in some almost \n",
      "miraculous way develops a central th eme and relates it to the rest of human experience. And how beautifully \n",
      "Montaigne combines the generalizati on with the \n"
     ]
    }
   ],
   "source": [
    "print(text[:10000])"
   ]
  },
  {
   "cell_type": "code",
   "execution_count": 11,
   "id": "eba2b478",
   "metadata": {},
   "outputs": [
    {
     "name": "stdout",
     "output_type": "stream",
     "text": [
      "\n",
      " !\"&'()*+,-./0123456789:;<=>?ABCDEFGHIJKLMNOPQRSTUVWXYZ[]abcdefghijklmnopqrstuvwxyz©ÀÆÉÎàâçèéêëïôöùúûü—\n",
      "104\n"
     ]
    }
   ],
   "source": [
    "chars = sorted(list(set(text)))\n",
    "vocab_size = len(chars)\n",
    "print(''.join(chars))\n",
    "print(vocab_size)"
   ]
  },
  {
   "cell_type": "code",
   "execution_count": null,
   "id": "4c48d9cb",
   "metadata": {},
   "outputs": [],
   "source": []
  }
 ],
 "metadata": {
  "kernelspec": {
   "display_name": "Python 3",
   "language": "python",
   "name": "python3"
  },
  "language_info": {
   "codemirror_mode": {
    "name": "ipython",
    "version": 3
   },
   "file_extension": ".py",
   "mimetype": "text/x-python",
   "name": "python",
   "nbconvert_exporter": "python",
   "pygments_lexer": "ipython3",
   "version": "3.9.6"
  }
 },
 "nbformat": 4,
 "nbformat_minor": 5
}
